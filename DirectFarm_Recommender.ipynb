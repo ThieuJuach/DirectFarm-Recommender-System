{
  "nbformat": 4,
  "nbformat_minor": 0,
  "metadata": {
    "colab": {
      "provenance": []
    },
    "kernelspec": {
      "name": "python3",
      "display_name": "Python 3"
    },
    "language_info": {
      "name": "python"
    }
  },
  "cells": [
    {
      "cell_type": "markdown",
      "source": [
        "The first part of the model is to generate a synthetic data with at least 100 rows."
      ],
      "metadata": {
        "id": "n-9G7Wb6O3ai"
      }
    },
    {
      "cell_type": "code",
      "execution_count": 2,
      "metadata": {
        "id": "jKziACbyLDnq"
      },
      "outputs": [],
      "source": [
        "#import libraries\n",
        "import pandas as pd\n",
        "import random\n",
        "from sklearn.neighbors import NearestNeighbors\n",
        "from sklearn.preprocessing import StandardScaler"
      ]
    },
    {
      "cell_type": "code",
      "source": [
        "# Step 1: Generate Synthetic Dataset\n",
        "def generate_dataset():\n",
        "    # Define products\n",
        "    products = [\"Tomatoes\", \"Potatoes\", \"Carrots\", \"Onions\"]\n",
        "\n",
        "    # Generate synthetic data\n",
        "    data = []\n",
        "    for i in range(1, 101):  # 100 rows\n",
        "        farmer_id = i\n",
        "        retailer_id = 100 + i\n",
        "        product = random.choice(products)\n",
        "        price = round(random.uniform(0.8, 3.0), 2)  # Random price between 0.8 and 3.0\n",
        "        latitude = round(random.uniform(32.0, 42.0), 4)  # Random latitude in the USA\n",
        "        longitude = round(random.uniform(-122.0, -74.0), 4)  # Random longitude in the USA\n",
        "        location = f\"{latitude},{longitude}\"\n",
        "        rating = round(random.uniform(3.5, 5.0), 1)  # Random rating between 3.5 and 5.0\n",
        "        quantity_available = random.randint(100, 500)  # Random quantity between 100 and 500\n",
        "\n",
        "        data.append([farmer_id, retailer_id, product, price, location, rating, quantity_available])\n",
        "\n",
        "    # Create a DataFrame\n",
        "    columns = [\"farmer_id\", \"retailer_id\", \"product\", \"price\", \"location\", \"rating\", \"quantity_available\"]\n",
        "    df = pd.DataFrame(data, columns=columns)\n",
        "\n",
        "    # Save to CSV\n",
        "    df.to_csv(\"farmers_retailers.csv\", index=False)\n",
        "    print(\"Dataset generated and saved as 'farmers_retailers.csv'\")\n",
        "    return df\n"
      ],
      "metadata": {
        "id": "yODENRwOPOv2"
      },
      "execution_count": 3,
      "outputs": []
    },
    {
      "cell_type": "code",
      "source": [
        "print(df.head())"
      ],
      "metadata": {
        "colab": {
          "base_uri": "https://localhost:8080/"
        },
        "id": "NQ_7UTtKQPxb",
        "outputId": "49a41ebd-c497-4b19-f9c7-3de2a35b5e35"
      },
      "execution_count": 4,
      "outputs": [
        {
          "output_type": "stream",
          "name": "stdout",
          "text": [
            "   farmer_id  retailer_id   product  price           location  rating  \\\n",
            "0          1          101  Potatoes   2.05  38.4946,-121.2056     3.8   \n",
            "1          2          102    Onions   2.74  32.1957,-114.3409     4.3   \n",
            "2          3          103  Potatoes   2.55  35.9723,-109.4378     3.9   \n",
            "3          4          104  Tomatoes   0.87  41.5947,-119.1465     4.3   \n",
            "4          5          105  Potatoes   2.49   38.9277,-93.0347     4.3   \n",
            "\n",
            "   quantity_available  \n",
            "0                 442  \n",
            "1                 461  \n",
            "2                 114  \n",
            "3                 488  \n",
            "4                 332  \n"
          ]
        }
      ]
    },
    {
      "cell_type": "code",
      "source": [
        "#check for missing values\n",
        "print(df.isnull().sum())"
      ],
      "metadata": {
        "colab": {
          "base_uri": "https://localhost:8080/"
        },
        "id": "TS1wxD_SQl5f",
        "outputId": "51ad5cff-9445-4a5e-f629-9d4da664fcc0"
      },
      "execution_count": 5,
      "outputs": [
        {
          "output_type": "stream",
          "name": "stdout",
          "text": [
            "farmer_id             0\n",
            "retailer_id           0\n",
            "product               0\n",
            "price                 0\n",
            "location              0\n",
            "rating                0\n",
            "quantity_available    0\n",
            "dtype: int64\n"
          ]
        }
      ]
    },
    {
      "cell_type": "markdown",
      "source": [
        "Train the DirectFarm Recommender System Model. This step preprocesses the data and trains a K-Nearest Neighbours (KNN) model."
      ],
      "metadata": {
        "id": "tMOJ5FwDP3D3"
      }
    },
    {
      "cell_type": "code",
      "source": [
        "# Step 2: Train the Recommender System Model\n",
        "def train_model(data):\n",
        "    # Feature engineering\n",
        "    features = data[['price', 'rating', 'quantity_available']]\n",
        "\n",
        "    # Normalize features\n",
        "    scaler = StandardScaler()\n",
        "    features_scaled = scaler.fit_transform(features)\n",
        "\n",
        "    # Train a KNN model\n",
        "    model = NearestNeighbors(n_neighbors=5, metric='euclidean')\n",
        "    model.fit(features_scaled)\n",
        "    print(\"Model trained successfully.\")\n",
        "    return model, scaler"
      ],
      "metadata": {
        "id": "cs6-gVQoRNku"
      },
      "execution_count": 6,
      "outputs": []
    },
    {
      "cell_type": "markdown",
      "source": [
        "This step filters the dataset based on user input ie product, price, rating and quantity and uses the trained model to recommend farmers."
      ],
      "metadata": {
        "id": "B2Q__k2ORtCo"
      }
    },
    {
      "cell_type": "code",
      "source": [
        "# Step 3: Recommend Farmers\n",
        "def recommend_farmers(model, scaler, data, product, max_price, min_rating, quantity_needed):\n",
        "    # Filter data based on user input\n",
        "    filtered_data = data[(data['product'] == product) &\n",
        "                         (data['price'] <= max_price) &\n",
        "                         (data['rating'] >= min_rating) &\n",
        "                         (data['quantity_available'] >= quantity_needed)]\n",
        "\n",
        "    if len(filtered_data) == 0:\n",
        "        return None\n",
        "\n",
        "    # Get features for filtered data\n",
        "    filtered_features = filtered_data[['price', 'rating', 'quantity_available']]\n",
        "    filtered_features_scaled = scaler.transform(filtered_features)\n",
        "\n",
        "    # Find nearest neighbors\n",
        "    distances, indices = model.kneighbors(filtered_features_scaled)\n",
        "\n",
        "    # Return recommended farmers\n",
        "    recommendations = filtered_data.iloc[indices[0]]\n",
        "    return recommendations\n"
      ],
      "metadata": {
        "id": "0DCXp6DMSCP6"
      },
      "execution_count": 7,
      "outputs": []
    },
    {
      "cell_type": "markdown",
      "source": [
        "This step generates the dataset, then trains the model and demonstrates how to use the recommender system."
      ],
      "metadata": {
        "id": "mlh6ixuYTKPb"
      }
    },
    {
      "cell_type": "code",
      "source": [
        "# Main Script\n",
        "if __name__ == \"__main__\":\n",
        "    # Step 1: Generate the dataset\n",
        "    data = generate_dataset()\n",
        "\n",
        "    # Step 2: Train the model\n",
        "    model, scaler = train_model(data)\n",
        "\n",
        "    # Step 3: Example usage of the recommender system\n",
        "    product = \"Tomatoes\"\n",
        "    max_price = 3.0\n",
        "    min_rating = 4.0\n",
        "    quantity_needed = 50\n",
        "\n",
        "def recommend_farmers(model, scaler, data, product, max_price, min_rating, quantity_needed):\n",
        "    # Filter data based on user input\n",
        "    filtered_data = data[(data['product'] == product) &\n",
        "                         (data['price'] <= max_price) &\n",
        "                         (data['rating'] >= min_rating) &\n",
        "                         (data['quantity_available'] >= quantity_needed)]\n",
        "\n",
        "    if len(filtered_data) == 0:\n",
        "        return None\n",
        "\n",
        "    # Get features for filtered data\n",
        "    filtered_features = filtered_data[['price', 'rating', 'quantity_available']]\n",
        "    filtered_features_scaled = scaler.transform(filtered_features)\n",
        "\n",
        "    # Find nearest neighbors\n",
        "    distances, indices = model.kneighbors(filtered_features_scaled)\n",
        "\n",
        "    # Return recommended farmers\n",
        "    # Get the indices of the recommendations within the filtered_data\n",
        "    recommendations_indices = filtered_data.index[indices[0]]\n",
        "    recommendations = data.loc[recommendations_indices]  # Use data.loc to get recommendations from the original data using recommendations_indices\n",
        "    return recommendations\n"
      ],
      "metadata": {
        "colab": {
          "base_uri": "https://localhost:8080/"
        },
        "id": "gFgdM9L2TJzF",
        "outputId": "2500faf4-8cbc-4b3d-c6e6-15c6d0397c0d"
      },
      "execution_count": 9,
      "outputs": [
        {
          "output_type": "stream",
          "name": "stdout",
          "text": [
            "Dataset generated and saved as 'farmers_retailers.csv'\n",
            "Model trained successfully.\n"
          ]
        }
      ]
    },
    {
      "cell_type": "markdown",
      "source": [
        "Save the trained model as a pickle file"
      ],
      "metadata": {
        "id": "vLTQ_DpZVnBc"
      }
    },
    {
      "cell_type": "code",
      "source": [
        "import joblib\n",
        "\n",
        "# Assuming best_rf_model is your trained NearestNeighbours model\n",
        "joblib.dump(model, 'bestmodel1.pkl')"
      ],
      "metadata": {
        "colab": {
          "base_uri": "https://localhost:8080/"
        },
        "id": "674fQLF5VCUa",
        "outputId": "9fb2bd93-f097-4e6a-dbf1-c13bfc039426"
      },
      "execution_count": 11,
      "outputs": [
        {
          "output_type": "execute_result",
          "data": {
            "text/plain": [
              "['bestmodel1.pkl']"
            ]
          },
          "metadata": {},
          "execution_count": 11
        }
      ]
    }
  ]
}